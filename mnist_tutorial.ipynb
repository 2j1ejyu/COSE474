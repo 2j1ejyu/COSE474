{
  "nbformat": 4,
  "nbformat_minor": 0,
  "metadata": {
    "colab": {
      "name": "mnist_tutorial.ipynb",
      "version": "0.3.2",
      "provenance": [],
      "collapsed_sections": [],
      "include_colab_link": true
    },
    "kernelspec": {
      "name": "python3",
      "display_name": "Python 3"
    },
    "accelerator": "GPU"
  },
  "cells": [
    {
      "cell_type": "markdown",
      "metadata": {
        "id": "view-in-github",
        "colab_type": "text"
      },
      "source": [
        "<a href=\"https://colab.research.google.com/github/mlvlab/COSE474/blob/master/mnist_tutorial.ipynb\" target=\"_parent\"><img src=\"https://colab.research.google.com/assets/colab-badge.svg\" alt=\"Open In Colab\"/></a>"
      ]
    },
    {
      "cell_type": "code",
      "metadata": {
        "id": "CAuEKfCwR8mD",
        "colab_type": "code",
        "colab": {}
      },
      "source": [
        "import torch\n",
        "import torch.nn as nn\n",
        "import torch.optim as optim\n",
        "import torchvision\n",
        "\n",
        "import torch.nn.init as init\n",
        "import torchvision.datasets as dset\n",
        "import torchvision.transforms as transforms\n",
        "from torch.utils.data import DataLoader\n",
        "\n",
        "from torch.utils.tensorboard import SummaryWriter\n",
        "\n",
        "# Writer will output to ./runs/ directory by default\n",
        "writer = SummaryWriter()\n",
        "\n",
        "# Setting hyperparameters\n",
        "batch_size = 256\n",
        "learning_rate = 0.0002\n",
        "num_epoch = 10"
      ],
      "execution_count": 0,
      "outputs": []
    },
    {
      "cell_type": "code",
      "metadata": {
        "id": "jfyJcAVnScAB",
        "colab_type": "code",
        "colab": {}
      },
      "source": [
        "# Loading MNIST dataset\n",
        "mnist_train = dset.MNIST(\"./\", train=True, transform=transforms.ToTensor(),\n",
        "                         target_transform=None, download=True)\n",
        "mnist_test = dset.MNIST(\"./\", train=False, transform=transforms.ToTensor(),\n",
        "                         target_transform=None, download=True)\n",
        "\n",
        "train_loader = torch.utils.data.DataLoader(mnist_train, batch_size = batch_size,\n",
        "                                           shuffle = True, num_workers = 2, drop_last = True)\n",
        "test_loader = torch.utils.data.DataLoader(mnist_test, batch_size = batch_size,\n",
        "                                           shuffle = False, num_workers = 2, drop_last = True)"
      ],
      "execution_count": 0,
      "outputs": []
    },
    {
      "cell_type": "code",
      "metadata": {
        "id": "MB1MVfIoScDl",
        "colab_type": "code",
        "colab": {}
      },
      "source": [
        "# Creating CNN model\n",
        "class CNN(nn.Module):\n",
        "    def __init__(self):\n",
        "        super(CNN, self).__init__()\n",
        "        self.layer = nn.Sequential(\n",
        "            nn.Conv2d(1,16,5),\n",
        "            nn.ReLU(),\n",
        "            nn.Conv2d(16,32,5),\n",
        "            nn.ReLU(),\n",
        "            nn.MaxPool2d(2,2),\n",
        "            nn.Conv2d(32,64,5),\n",
        "            nn.ReLU(),\n",
        "            nn.MaxPool2d(2,2)        \n",
        "        )\n",
        "        self.fc_layer = nn.Sequential(\n",
        "            nn.Linear(64*3*3,100),\n",
        "            nn.ReLU(),\n",
        "            nn.Linear(100,10)\n",
        "        )\n",
        "        \n",
        "    def forward(self, x):\n",
        "        out = self.layer(x)\n",
        "        out = out.view(batch_size, -1)\n",
        "        out = self.fc_layer(out)\n",
        "        return out"
      ],
      "execution_count": 0,
      "outputs": []
    },
    {
      "cell_type": "code",
      "metadata": {
        "id": "Bjxn_kKuScKj",
        "colab_type": "code",
        "colab": {}
      },
      "source": [
        "# Declare device(GPU/CPU), declare Loss func and optimizer\n",
        "device = torch.device(\"cuda:0\" if torch.cuda.is_available() else \"cpu\")\n",
        "model = CNN().to(device)\n",
        "loss_func = nn.CrossEntropyLoss()\n",
        "optimizer = torch.optim.Adam(model.parameters(), lr=learning_rate)\n",
        "\n",
        "loss_arr = []\n",
        "\n",
        "train_iter = 0\n",
        "test_iter = 0\n",
        "test_acc_iter = 0\n",
        "\n",
        "# Training\n",
        "for i in range(num_epoch):\n",
        "    for j, [image, label] in enumerate(train_loader):\n",
        "        x = image.to(device)\n",
        "        y_ = label.to(device)\n",
        "        \n",
        "        optimizer.zero_grad()\n",
        "        output = model.forward(x)\n",
        "        loss = loss_func(output, y_)\n",
        "        loss.backward()\n",
        "        optimizer.step()\n",
        "            \n",
        "        if j % 1000 == 0:\n",
        "            print(loss)\n",
        "            loss_arr.append(loss.cpu().detach().numpy())\n",
        "            \n",
        "            # Tensorboard : train_loss\n",
        "            writer.add_scalar('Loss/train', loss.item(), train_iter)\n",
        "            train_iter += 1\n",
        "                          \n",
        "correct = 0\n",
        "total = 0\n",
        "\n",
        "# Testing\n",
        "with torch.no_grad():\n",
        "    for k, [image, label] in enumerate(test_loader):\n",
        "        x = image.to(device)\n",
        "        y_ = label.to(device)\n",
        "        \n",
        "        output = model.forward(x)\n",
        "        _, output_index = torch.max(output, 1)\n",
        "        \n",
        "        test_loss = loss_func(output, y_)\n",
        "        \n",
        "        total += label.size(0)\n",
        "        correct += (output_index == y_).sum().float()\n",
        "        \n",
        "        accuracy = 100*correct/total\n",
        "        \n",
        "        # Tensorboard : test_loss\n",
        "        writer.add_scalar('Loss/test', test_loss.item(), test_iter)\n",
        "        test_iter += 1\n",
        "        \n",
        "        # Tensorboard : test_Accuracy  \n",
        "        writer.add_scalar('Accuracy/test', accuracy.item(), test_acc_iter)\n",
        "        test_acc_iter += 1\n",
        "        \n",
        "    print(\"Accuracy of Test Data : {}\".format(100*correct/total))\n",
        "\n",
        "# Tensorboard : image (1 batch)\n",
        "images, labels = next(iter(train_loader))\n",
        "grid = torchvision.utils.make_grid(images)\n",
        "writer.add_image('images', grid, 0)\n",
        "\n",
        "# Tensorboard : model graph\n",
        "grp = images.to(device)\n",
        "writer.add_graph(model, grp)\n",
        "    \n",
        "writer.close()"
      ],
      "execution_count": 0,
      "outputs": []
    },
    {
      "cell_type": "code",
      "metadata": {
        "id": "J3dHkTdsScNx",
        "colab_type": "code",
        "colab": {}
      },
      "source": [
        "# Install tf-nightly package\n",
        "!pip install -q tf-nightly-2.0-preview"
      ],
      "execution_count": 0,
      "outputs": []
    },
    {
      "cell_type": "code",
      "metadata": {
        "id": "j2OTDHp3ScRK",
        "colab_type": "code",
        "colab": {}
      },
      "source": [
        "%load_ext tensorboard"
      ],
      "execution_count": 0,
      "outputs": []
    },
    {
      "cell_type": "code",
      "metadata": {
        "id": "NZUMYffwScUa",
        "colab_type": "code",
        "colab": {}
      },
      "source": [
        "# Run tensorboard\n",
        "# if you cannot see anything, just try running one more time\n",
        "%tensorboard --logdir=runs"
      ],
      "execution_count": 0,
      "outputs": []
    },
    {
      "cell_type": "code",
      "metadata": {
        "id": "6BkpiNlASnXd",
        "colab_type": "code",
        "colab": {}
      },
      "source": [
        "# you can use linux command like 'ls, cd, cd.., pip, rm'."
      ],
      "execution_count": 0,
      "outputs": []
    },
    {
      "cell_type": "code",
      "metadata": {
        "id": "8rCUxSCwSnas",
        "colab_type": "code",
        "colab": {}
      },
      "source": [
        "# (option) remove 'runs' directory\n",
        "!rm -rf runs"
      ],
      "execution_count": 0,
      "outputs": []
    },
    {
      "cell_type": "code",
      "metadata": {
        "id": "v_egrnirSndp",
        "colab_type": "code",
        "colab": {}
      },
      "source": [
        "# (option) list files to check 'runs' directory\n",
        "ls"
      ],
      "execution_count": 0,
      "outputs": []
    },
    {
      "cell_type": "code",
      "metadata": {
        "id": "dRvcarEQSngv",
        "colab_type": "code",
        "colab": {}
      },
      "source": [
        ""
      ],
      "execution_count": 0,
      "outputs": []
    }
  ]
}