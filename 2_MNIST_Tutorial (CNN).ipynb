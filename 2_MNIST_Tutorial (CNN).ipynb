{
 "cells": [
  {
   "cell_type": "markdown",
   "metadata": {
    "colab_type": "text",
    "id": "view-in-github"
   },
   "source": [
    "<a href=\"https://colab.research.google.com/github/mlvlab/COSE474/blob/master/mnist_tutorial.ipynb\" target=\"_parent\"><img src=\"https://colab.research.google.com/assets/colab-badge.svg\" alt=\"Open In Colab\"/></a>"
   ]
  },
  {
   "cell_type": "markdown",
   "metadata": {},
   "source": [
    "## MNIST_Tutorial (CNN) in PyTorch\n",
    "\n",
    "### Reference\n",
    "* [PyTorch Tutorial MNIST](https://github.com/GunhoChoi/PyTorch-FastCampus/tree/master/03_CNN_Basics/0_MNIST)\n",
    "* [VISUALIZING MODELS, DATA, AND TRAINING WITH TENSORBOARD](https://tutorials.pytorch.kr/intermediate/tensorboard_tutorial.html?highlight=mnist)"
   ]
  },
  {
   "cell_type": "markdown",
   "metadata": {},
   "source": [
    "### GOALS\n",
    "\n",
    "1. We will make a simple convolutional neural network(CNN).\n",
    "2. Then, we will train the network with MNIST.\n",
    "3. We will learn how to use Tensorboard as well to monitor training.\n",
    "\n",
    "\n"
   ]
  },
  {
   "cell_type": "markdown",
   "metadata": {},
   "source": [
    "### Settings\n",
    "Import required libraries\n",
    "Set hyperparameters"
   ]
  },
  {
   "cell_type": "code",
   "execution_count": 0,
   "metadata": {
    "colab": {},
    "colab_type": "code",
    "id": "CAuEKfCwR8mD"
   },
   "outputs": [],
   "source": [
    "import torch\n",
    "import torch.nn as nn\n",
    "import torch.optim as optim\n",
    "import torchvision\n",
    "\n",
    "import torch.nn.init as init\n",
    "import torchvision.datasets as dset\n",
    "import torchvision.transforms as transforms\n",
    "from torch.utils.data import DataLoader\n",
    "\n",
    "from torch.utils.tensorboard import SummaryWriter\n",
    "\n",
    "# Writer will output to ./runs/ directory by default\n",
    "writer = SummaryWriter()\n",
    "\n",
    "# Setting hyperparameters\n",
    "batch_size = 256\n",
    "learning_rate = 0.0002\n",
    "num_epoch = 10"
   ]
  },
  {
   "cell_type": "markdown",
   "metadata": {},
   "source": [
    "### Data Generation\n",
    "Download Data\n",
    "Set DataLoader"
   ]
  },
  {
   "cell_type": "code",
   "execution_count": 0,
   "metadata": {
    "colab": {},
    "colab_type": "code",
    "id": "jfyJcAVnScAB"
   },
   "outputs": [],
   "source": [
    "# Loading MNIST dataset\n",
    "mnist_train = dset.MNIST(\"./\", train=True, transform=transforms.ToTensor(),\n",
    "                         target_transform=None, download=True)\n",
    "mnist_test = dset.MNIST(\"./\", train=False, transform=transforms.ToTensor(),\n",
    "                         target_transform=None, download=True)\n",
    "\n",
    "train_loader = torch.utils.data.DataLoader(mnist_train, batch_size = batch_size,\n",
    "                                           shuffle = True, num_workers = 2, drop_last = True)\n",
    "test_loader = torch.utils.data.DataLoader(mnist_test, batch_size = batch_size,\n",
    "                                           shuffle = False, num_workers = 2, drop_last = True)"
   ]
  },
  {
   "cell_type": "markdown",
   "metadata": {},
   "source": [
    "### Define Convolutional Neural Network\n",
    "1. MNIST data\n",
    "2. 3 convolutional layers\n",
    "3. 2 fully connected layers"
   ]
  },
  {
   "cell_type": "code",
   "execution_count": 0,
   "metadata": {
    "colab": {},
    "colab_type": "code",
    "id": "MB1MVfIoScDl"
   },
   "outputs": [],
   "source": [
    "# Creating CNN model\n",
    "class CNN(nn.Module):\n",
    "    def __init__(self):\n",
    "        super(CNN, self).__init__()\n",
    "        self.layer = nn.Sequential(\n",
    "            nn.Conv2d(1,16,5),\n",
    "            nn.ReLU(),\n",
    "            nn.Conv2d(16,32,5),\n",
    "            nn.ReLU(),\n",
    "            nn.MaxPool2d(2,2),\n",
    "            nn.Conv2d(32,64,5),\n",
    "            nn.ReLU(),\n",
    "            nn.MaxPool2d(2,2)        \n",
    "        )\n",
    "        self.fc_layer = nn.Sequential(\n",
    "            nn.Linear(64*3*3,100),\n",
    "            nn.ReLU(),\n",
    "            nn.Linear(100,10)\n",
    "        )\n",
    "        \n",
    "    def forward(self, x):\n",
    "        out = self.layer(x)\n",
    "        out = out.view(batch_size, -1)\n",
    "        out = self.fc_layer(out)\n",
    "        return out"
   ]
  },
  {
   "cell_type": "markdown",
   "metadata": {},
   "source": [
    "### Train & Test"
   ]
  },
  {
   "cell_type": "code",
   "execution_count": 0,
   "metadata": {
    "colab": {},
    "colab_type": "code",
    "id": "Bjxn_kKuScKj"
   },
   "outputs": [],
   "source": [
    "# Declare device(GPU/CPU), declare Loss func and optimizer\n",
    "device = torch.device(\"cuda:0\" if torch.cuda.is_available() else \"cpu\")\n",
    "model = CNN().to(device)\n",
    "loss_func = nn.CrossEntropyLoss()\n",
    "optimizer = torch.optim.Adam(model.parameters(), lr=learning_rate)\n",
    "\n",
    "loss_arr = []\n",
    "\n",
    "train_iter = 0\n",
    "test_iter = 0\n",
    "test_acc_iter = 0\n",
    "\n",
    "# Training\n",
    "for i in range(num_epoch):\n",
    "    for j, [image, label] in enumerate(train_loader):\n",
    "        x = image.to(device)\n",
    "        y_ = label.to(device)\n",
    "        \n",
    "        optimizer.zero_grad()\n",
    "        output = model.forward(x)\n",
    "        loss = loss_func(output, y_)\n",
    "        loss.backward()\n",
    "        optimizer.step()\n",
    "            \n",
    "        if j % 1000 == 0:\n",
    "            print(loss)\n",
    "            loss_arr.append(loss.cpu().detach().numpy())\n",
    "            \n",
    "            # Tensorboard : train_loss\n",
    "            writer.add_scalar('Loss/train', loss.item(), train_iter)\n",
    "            train_iter += 1\n",
    "                          \n",
    "correct = 0\n",
    "total = 0\n",
    "\n",
    "# Testing\n",
    "with torch.no_grad():\n",
    "    for k, [image, label] in enumerate(test_loader):\n",
    "        x = image.to(device)\n",
    "        y_ = label.to(device)\n",
    "        \n",
    "        output = model.forward(x)\n",
    "        _, output_index = torch.max(output, 1)\n",
    "        \n",
    "        test_loss = loss_func(output, y_)\n",
    "        \n",
    "        total += label.size(0)\n",
    "        correct += (output_index == y_).sum().float()\n",
    "        \n",
    "        accuracy = 100*correct/total\n",
    "        \n",
    "        # Tensorboard : test_loss\n",
    "        writer.add_scalar('Loss/test', test_loss.item(), test_iter)\n",
    "        test_iter += 1\n",
    "        \n",
    "        # Tensorboard : test_Accuracy  \n",
    "        writer.add_scalar('Accuracy/test', accuracy.item(), test_acc_iter)\n",
    "        test_acc_iter += 1\n",
    "        \n",
    "    print(\"Accuracy of Test Data : {}\".format(100*correct/total))\n",
    "\n",
    "# Tensorboard : image (1 batch)\n",
    "images, labels = next(iter(train_loader))\n",
    "grid = torchvision.utils.make_grid(images)\n",
    "writer.add_image('images', grid, 0)\n",
    "\n",
    "# Tensorboard : model graph\n",
    "grp = images.to(device)\n",
    "writer.add_graph(model, grp)\n",
    "    \n",
    "writer.close()"
   ]
  },
  {
   "cell_type": "markdown",
   "metadata": {},
   "source": [
    "### Using Tensorboard to monitor training & testing"
   ]
  },
  {
   "cell_type": "code",
   "execution_count": 0,
   "metadata": {
    "colab": {},
    "colab_type": "code",
    "id": "J3dHkTdsScNx"
   },
   "outputs": [],
   "source": [
    "# Install tf-nightly package\n",
    "!pip install -q tf-nightly-2.0-preview"
   ]
  },
  {
   "cell_type": "code",
   "execution_count": 0,
   "metadata": {
    "colab": {},
    "colab_type": "code",
    "id": "j2OTDHp3ScRK"
   },
   "outputs": [],
   "source": [
    "%load_ext tensorboard"
   ]
  },
  {
   "cell_type": "code",
   "execution_count": 0,
   "metadata": {
    "colab": {},
    "colab_type": "code",
    "id": "NZUMYffwScUa"
   },
   "outputs": [],
   "source": [
    "# Run tensorboard\n",
    "# if you cannot see anything, just try running one more time\n",
    "%tensorboard --logdir=runs"
   ]
  },
  {
   "cell_type": "code",
   "execution_count": 0,
   "metadata": {
    "colab": {},
    "colab_type": "code",
    "id": "6BkpiNlASnXd"
   },
   "outputs": [],
   "source": [
    "# you can use linux command like 'ls, cd, cd.., pip, rm'."
   ]
  },
  {
   "cell_type": "code",
   "execution_count": 0,
   "metadata": {
    "colab": {},
    "colab_type": "code",
    "id": "8rCUxSCwSnas"
   },
   "outputs": [],
   "source": [
    "# (option) remove 'runs' directory\n",
    "!rm -rf runs"
   ]
  },
  {
   "cell_type": "code",
   "execution_count": 0,
   "metadata": {
    "colab": {},
    "colab_type": "code",
    "id": "v_egrnirSndp"
   },
   "outputs": [],
   "source": [
    "# (option) list files to check 'runs' directory\n",
    "ls"
   ]
  },
  {
   "cell_type": "code",
   "execution_count": 0,
   "metadata": {
    "colab": {},
    "colab_type": "code",
    "id": "dRvcarEQSngv"
   },
   "outputs": [],
   "source": []
  }
 ],
 "metadata": {
  "accelerator": "GPU",
  "colab": {
   "collapsed_sections": [],
   "include_colab_link": true,
   "name": "mnist_tutorial.ipynb",
   "provenance": [],
   "version": "0.3.2"
  },
  "kernelspec": {
   "display_name": "Python 3",
   "language": "python",
   "name": "python3"
  },
  "language_info": {
   "codemirror_mode": {
    "name": "ipython",
    "version": 3
   },
   "file_extension": ".py",
   "mimetype": "text/x-python",
   "name": "python",
   "nbconvert_exporter": "python",
   "pygments_lexer": "ipython3",
   "version": "3.5.2"
  }
 },
 "nbformat": 4,
 "nbformat_minor": 1
}
